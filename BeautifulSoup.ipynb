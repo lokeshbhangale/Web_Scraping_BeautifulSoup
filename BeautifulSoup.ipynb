{
 "cells": [
  {
   "cell_type": "code",
   "execution_count": 1,
   "id": "a0dd82ab-e896-4d5a-8ef3-623bd063e447",
   "metadata": {},
   "outputs": [],
   "source": [
    "import requests\n",
    "from bs4 import BeautifulSoup\n",
    "import pandas as pd"
   ]
  },
  {
   "cell_type": "code",
   "execution_count": 2,
   "id": "61517b06-4820-4960-8d78-81f39bca74bd",
   "metadata": {},
   "outputs": [
    {
     "name": "stdout",
     "output_type": "stream",
     "text": [
      "30\n"
     ]
    }
   ],
   "source": [
    "lix = []\n",
    "response = requests.get('https://github.com/topics')\n",
    "tx = response.text\n",
    "doc = BeautifulSoup(tx, 'html.parser')\n",
    "sel = 'no-underline flex-1 d-flex flex-column'\n",
    "tg = doc.find_all('a', class_=sel)\n",
    "print(len(tg))\n",
    "for i in range(0, len(tg)):\n",
    "    var = 'https://github.com/' + tg[i]['href']\n",
    "    lix.append(var)"
   ]
  },
  {
   "cell_type": "code",
   "execution_count": 3,
   "id": "6cedfcf8-5785-4ac2-afaf-7bb2eb2b1485",
   "metadata": {},
   "outputs": [],
   "source": [
    "def process_data(lix):\n",
    "    for k in lix:\n",
    "        # try:\n",
    "            # print(k)\n",
    "            response1=requests.get(k)\n",
    "            doc1=BeautifulSoup(response1.text,'html.parser')\n",
    "            selec1='text-bold wb-break-word'\n",
    "            tag1=doc1.find_all('a',class_=selec1)\n",
    "            selec2='d-flex flex-wrap border-bottom color-border-muted px-3 pt-2 pb-2'\n",
    "            tag2=doc1.find_all('div',class_=selec2)\n",
    "            selec3='Counter js-social-count'\n",
    "            tag3=doc1.find_all('span',class_=selec3)\n",
    "            selec4='no-wrap'\n",
    "            tag4=doc1.find_all('relative-time',class_=selec4)\n",
    "            selec5='f6 my-1 ml-0'\n",
    "            tag5=doc1.find_all('span',class_=selec5)\n",
    "            var='https://github.com/'+tag1[0]['href']\n",
    "            li1=[]\n",
    "            for i in tag1:\n",
    "                li1.append(i.text.replace('\\n',' ').strip())\n",
    "            # print(li1)\n",
    "            li2=[]\n",
    "            for i in range (0,len(tag1)):\n",
    "                var='https://github.com/'+tag1[i]['href']\n",
    "                li2.append(var)\n",
    "            # print(li2)\n",
    "            li3=[]\n",
    "            for i in tag2:\n",
    "                li3.append(i.text.replace('\\n',' ').strip())\n",
    "            # print(li3)\n",
    "            li4=[]\n",
    "            for i in tag3:\n",
    "                if 'k' in i.text:\n",
    "                    a=i.text.replace('k','')\n",
    "                    up=int(float(a)*1000)\n",
    "                    li4.append(up)\n",
    "                elif 'k' not in i.text:\n",
    "                    li4.append(i.text)\n",
    "            # print(li4)\n",
    "            li5=[]\n",
    "            for i in tag4:\n",
    "                li5.append(i.text)\n",
    "            # print(li5)\n",
    "            df = pd.DataFrame({'Name':li1,'Website':li2,'Subjective_tags':li3,'Rating_Submitted':li4,'Last_updated':li5})\n",
    "            \n",
    "            df['Subjective_tags']=df['Subjective_tags'].str.replace('\\s+',', ')\n",
    "            a = k.replace(\"https://github.com//topics/\",\"\") + '.csv'\n",
    "            # print(a)\n",
    "            df.to_csv(a, index=None)"
   ]
  },
  {
   "cell_type": "code",
   "execution_count": 4,
   "id": "d145ae4c-f4fd-41a7-8b76-e7fc0f4e16bb",
   "metadata": {},
   "outputs": [
    {
     "name": "stderr",
     "output_type": "stream",
     "text": [
      "C:\\Users\\bhang\\AppData\\Local\\Temp\\ipykernel_5684\\3943270035.py:46: FutureWarning: The default value of regex will change from True to False in a future version.\n",
      "  df['Subjective_tags']=df['Subjective_tags'].str.replace('\\s+',', ')\n"
     ]
    }
   ],
   "source": [
    "process_data(lix)"
   ]
  },
  {
   "cell_type": "code",
   "execution_count": null,
   "id": "c0f6dff3-e3c8-419b-b444-7a77810af381",
   "metadata": {},
   "outputs": [],
   "source": []
  }
 ],
 "metadata": {
  "kernelspec": {
   "display_name": "Python 3 (ipykernel)",
   "language": "python",
   "name": "python3"
  },
  "language_info": {
   "codemirror_mode": {
    "name": "ipython",
    "version": 3
   },
   "file_extension": ".py",
   "mimetype": "text/x-python",
   "name": "python",
   "nbconvert_exporter": "python",
   "pygments_lexer": "ipython3",
   "version": "3.9.12"
  }
 },
 "nbformat": 4,
 "nbformat_minor": 5
}
